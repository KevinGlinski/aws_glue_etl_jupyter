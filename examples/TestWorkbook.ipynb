{
 "cells": [
  {
   "cell_type": "code",
   "execution_count": 2,
   "metadata": {},
   "outputs": [
    {
     "name": "stdout",
     "output_type": "stream",
     "text": [
      "Collecting git+https://github.com/purecloudlabs/aws_glue_etl_jupyter.git\n",
      "  Cloning https://github.com/purecloudlabs/aws_glue_etl_jupyter.git to /tmp/pip-yier4ugj-build\n",
      "Collecting boto3 (from aws-glue-etl-jupyter==0.1.0)\n",
      "  Downloading https://files.pythonhosted.org/packages/db/77/43177f7ab3464db9f3f324caf8843a8a3daf8da8065f028aab3d54436206/boto3-1.9.3-py2.py3-none-any.whl (128kB)\n",
      "\u001b[K    100% |████████████████████████████████| 133kB 968kB/s ta 0:00:01\n",
      "\u001b[?25hCollecting s3transfer<0.2.0,>=0.1.10 (from boto3->aws-glue-etl-jupyter==0.1.0)\n",
      "  Downloading https://files.pythonhosted.org/packages/d7/14/2a0004d487464d120c9fb85313a75cd3d71a7506955be458eebfe19a6b1d/s3transfer-0.1.13-py2.py3-none-any.whl (59kB)\n",
      "\u001b[K    100% |████████████████████████████████| 61kB 4.1MB/s ta 0:00:011\n",
      "\u001b[?25hCollecting jmespath<1.0.0,>=0.7.1 (from boto3->aws-glue-etl-jupyter==0.1.0)\n",
      "  Downloading https://files.pythonhosted.org/packages/b7/31/05c8d001f7f87f0f07289a5fc0fc3832e9a57f2dbd4d3b0fee70e0d51365/jmespath-0.9.3-py2.py3-none-any.whl\n",
      "Collecting botocore<1.13.0,>=1.12.3 (from boto3->aws-glue-etl-jupyter==0.1.0)\n",
      "  Downloading https://files.pythonhosted.org/packages/ad/85/a150094cf15116d58868834447388fc8af00125fe4e0d20c3af19a0f1c7f/botocore-1.12.3-py2.py3-none-any.whl (4.7MB)\n",
      "\u001b[K    100% |████████████████████████████████| 4.7MB 186kB/s eta 0:00:01\n",
      "\u001b[?25hCollecting docutils>=0.10 (from botocore<1.13.0,>=1.12.3->boto3->aws-glue-etl-jupyter==0.1.0)\n",
      "  Downloading https://files.pythonhosted.org/packages/36/fa/08e9e6e0e3cbd1d362c3bbee8d01d0aedb2155c4ac112b19ef3cae8eed8d/docutils-0.14-py3-none-any.whl (543kB)\n",
      "\u001b[K    100% |████████████████████████████████| 552kB 1.5MB/s eta 0:00:01\n",
      "\u001b[?25hRequirement already satisfied: urllib3<1.24,>=1.20 in /opt/conda/lib/python3.6/site-packages (from botocore<1.13.0,>=1.12.3->boto3->aws-glue-etl-jupyter==0.1.0)\n",
      "Requirement already satisfied: python-dateutil<3.0.0,>=2.1; python_version >= \"2.7\" in /opt/conda/lib/python3.6/site-packages (from botocore<1.13.0,>=1.12.3->boto3->aws-glue-etl-jupyter==0.1.0)\n",
      "Requirement already satisfied: six>=1.5 in /opt/conda/lib/python3.6/site-packages (from python-dateutil<3.0.0,>=2.1; python_version >= \"2.7\"->botocore<1.13.0,>=1.12.3->boto3->aws-glue-etl-jupyter==0.1.0)\n",
      "Installing collected packages: docutils, jmespath, botocore, s3transfer, boto3, aws-glue-etl-jupyter\n",
      "  Running setup.py install for aws-glue-etl-jupyter ... \u001b[?25ldone\n",
      "\u001b[?25hSuccessfully installed aws-glue-etl-jupyter-0.1.0 boto3-1.9.3 botocore-1.12.3 docutils-0.14 jmespath-0.9.3 s3transfer-0.1.13\n",
      "\u001b[33mYou are using pip version 9.0.3, however version 18.0 is available.\n",
      "You should consider upgrading via the 'pip install --upgrade pip' command.\u001b[0m\n"
     ]
    }
   ],
   "source": [
    "import sys\n",
    "!{sys.executable} -m pip install git+https://github.com/purecloudlabs/aws_glue_etl_jupyter.git\n",
    "# Because the previous line starts with a !, it will be removed from the output py file"
   ]
  },
  {
   "cell_type": "markdown",
   "metadata": {},
   "source": [
    "#This is a markdown cell which will get converted into an inline comment"
   ]
  },
  {
   "cell_type": "code",
   "execution_count": 15,
   "metadata": {},
   "outputs": [
    {
     "name": "stdout",
     "output_type": "stream",
     "text": [
      "starting\n",
      "['/opt/conda/lib/python3.6/site-packages/ipykernel_launcher.py', '-f', '/home/jovyan/.local/share/jupyter/runtime/kernel-39ea3c73-92bc-4117-91de-f9d263de473b.json']\n",
      "['/data/examples/data/data.json']\n",
      "root\n",
      " |-- age: long (nullable = true)\n",
      " |-- car: string (nullable = true)\n",
      " |-- name: string (nullable = true)\n",
      "\n",
      "+---+-----+-----+\n",
      "|age|  car| name|\n",
      "+---+-----+-----+\n",
      "| 30| null| John|\n",
      "| 36|tesla|Kevin|\n",
      "+---+-----+-----+\n",
      "\n"
     ]
    }
   ],
   "source": [
    "from aws_glue_etl_jupyter import glueshim\n",
    "\n",
    "print(\"starting\")\n",
    "print(sys.argv)\n",
    "\n",
    "shim = glueshim.GlueShim()\n",
    "\n",
    "params = {'data_bucket': \"examples\"}\n",
    "\n",
    "files = shim.get_all_files_with_prefix(params['data_bucket'], \"data/\")\n",
    "print(files)\n",
    "\n",
    "\n",
    "data = shim.load_data(files, 'example_data')\n",
    "data.printSchema()\n",
    "data.show()\n",
    "\n",
    "shim.write_parquet(data, params['data_bucket'], \"exampleoutput/parquet/\", None, 'parquetdata' )\n",
    "\n",
    "shim.write_csv(data, params['data_bucket'],\"exampleoutput/csv/\", 'csvdata')"
    "\n",
    "shim.finish()"
   ]
  },
  {
   "cell_type": "code",
   "execution_count": null,
   "metadata": {},
   "outputs": [],
   "source": []
  }
 ],
 "metadata": {
  "kernelspec": {
   "display_name": "Python 3",
   "language": "python",
   "name": "python3"
  },
  "language_info": {
   "codemirror_mode": {
    "name": "ipython",
    "version": 3
   },
   "file_extension": ".py",
   "mimetype": "text/x-python",
   "name": "python",
   "nbconvert_exporter": "python",
   "pygments_lexer": "ipython3",
   "version": "3.6.5"
  }
 },
 "nbformat": 4,
 "nbformat_minor": 1
}
