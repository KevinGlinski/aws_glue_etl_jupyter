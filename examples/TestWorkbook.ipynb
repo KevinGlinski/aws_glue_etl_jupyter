{
    "nbformat_minor": 1,
    "nbformat": 4,
    "cells": [
        {
            "execution_count": 0,
            "cell_type": "code",
            "source": [
                "import sys\n",
                "!{sys.executable} -m pip install git+https://github.com/purecloudlabs/aws_glue_etl_docker.git\n",
                "# Because the previous line starts with a !, it will be removed from the output py file"
            ],
            "outputs": [],
            "metadata": {}
        },
        {
            "source": [
                "#This is a markdown cell which will get converted into an inline comment"
            ],
            "cell_type": "markdown",
            "metadata": {}
        },
        {
            "execution_count": 0,
            "cell_type": "code",
            "source": [
                "from aws_glue_etl_docker import glueshim\n",
                "\n",
                "print(\"starting\")\n",
                "print(sys.argv)\n",
                "\n",
                "shim = glueshim.GlueShim()\n",
                "\n",
                "params = {'data_bucket': \"examples\"}\n",
                "\n",
                "files = shim.get_all_files_with_prefix(params['data_bucket'], \"data/\")\n",
                "print(files)\n",
                "\n",
                "\n",
                "data = shim.load_data(files, 'example_data')\n",
                "data.printSchema()\n",
                "data.show()\n",
                "\n",
                "shim.write_parquet(data, params['data_bucket'], \"exampleoutput/parquet/\", None, 'parquetdata' )\n",
                "\n",
                "shim.write_csv(data, params['data_bucket'],\"exampleoutput/csv/\", 'csvdata')",
                "\n",
                "shim.finish()"
            ],
            "outputs": [],
            "metadata": {}
        },
        {
            "execution_count": 0,
            "cell_type": "code",
            "source": [],
            "outputs": [],
            "metadata": {}
        }
    ],
    "metadata": {
        "kernelspec": {
            "display_name": "Python 3",
            "name": "python3",
            "language": "python"
        },
        "language_info": {
            "mimetype": "text/x-python",
            "nbconvert_exporter": "python",
            "name": "python",
            "file_extension": ".py",
            "version": "3.6.5",
            "pygments_lexer": "ipython3",
            "codemirror_mode": {
                "version": 3,
                "name": "ipython"
            }
        }
    }
}