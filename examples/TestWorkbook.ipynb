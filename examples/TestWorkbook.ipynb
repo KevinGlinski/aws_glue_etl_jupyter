{
 "cells": [
  {
   "cell_type": "code",
   "execution_count": 49,
   "metadata": {},
   "outputs": [
    {
     "name": "stdout",
     "output_type": "stream",
     "text": [
      "local dev\n",
      "['/data/examples/data/data.json']\n",
      "{'data_bucket': 'examples'}\n",
      "root\n",
      " |-- age: long (nullable = true)\n",
      " |-- car: string (nullable = true)\n",
      " |-- name: string (nullable = true)\n",
      "\n",
      "+---+-----+-----+\n",
      "|age|  car| name|\n",
      "+---+-----+-----+\n",
      "| 30| null| John|\n",
      "| 36|tesla|Kevin|\n",
      "+---+-----+-----+\n",
      "\n"
     ]
    }
   ],
   "source": [
    "print(\"starting\")\n",
    "print(sys.argv)\n",
    "\n",
    "shim = GlueShim()\n",
    "\n",
    "params = {'data_bucket': \"inindca-api\"}\n",
    "\n",
    "\n",
    "files = shim.get_all_files_with_prefix(params['data_bucket'], \"api-usage/firehose/local-region/public-requests/us-east-1/2018/\")\n",
    "print(files)\n",
    "\n",
    "\n",
    "data = shim.load_data(files, 'example_data')\n",
    "data.printSchema()\n",
    "data.show()\n",
    "\n",
    "shim.write_parquet(data, params['data_bucket'], \"kevintest/parquet/\", None, 'parquetdata' )\n",
    "\n",
    "shim.write_csv(data, params['data_bucket'],\"kevintest/csv/\", 'csvdata')"
   ]
  },
  {
   "cell_type": "code",
   "execution_count": 50,
   "metadata": {},
   "outputs": [
    {
     "name": "stdout",
     "output_type": "stream",
     "text": [
      "Solving environment: done\n",
      "\n",
      "\n",
      "==> WARNING: A newer version of conda exists. <==\n",
      "  current version: 4.5.8\n",
      "  latest version: 4.5.11\n",
      "\n",
      "Please update conda by running\n",
      "\n",
      "    $ conda update -n base conda\n",
      "\n",
      "\n",
      "\n",
      "## Package Plan ##\n",
      "\n",
      "  environment location: /opt/conda\n",
      "\n",
      "  added / updated specs: \n",
      "    - numpy\n",
      "\n",
      "\n",
      "The following packages will be downloaded:\n",
      "\n",
      "    package                    |            build\n",
      "    ---------------------------|-----------------\n",
      "    numpy-1.15.1               |py36_blas_openblashd3ea46f_1         9.3 MB  conda-forge\n",
      "    h5py-2.7.1                 |           py36_2         4.0 MB  conda-forge\n",
      "    ca-certificates-2018.8.24  |       ha4d7672_0         136 KB  conda-forge\n",
      "    certifi-2018.8.24          |           py36_1         139 KB  conda-forge\n",
      "    openssl-1.0.2p             |       h470a237_0         3.5 MB  conda-forge\n",
      "    ------------------------------------------------------------\n",
      "                                           Total:        17.1 MB\n",
      "\n",
      "The following packages will be UPDATED:\n",
      "\n",
      "    ca-certificates: 2018.4.16-0                   conda-forge --> 2018.8.24-ha4d7672_0                conda-forge\n",
      "    certifi:         2018.4.16-py36_0              conda-forge --> 2018.8.24-py36_1                    conda-forge\n",
      "    numpy:           1.13.3-py36_blas_openblas_201 conda-forge [blas_openblas] --> 1.15.1-py36_blas_openblashd3ea46f_1 conda-forge [blas_openblas]\n",
      "    openssl:         1.0.2o-h470a237_1             conda-forge --> 1.0.2p-h470a237_0                   conda-forge\n",
      "\n",
      "The following packages will be DOWNGRADED:\n",
      "\n",
      "    h5py:            2.7.1-py36_3                  conda-forge --> 2.7.1-py36_2                        conda-forge\n",
      "\n",
      "\n",
      "Downloading and Extracting Packages\n",
      "numpy-1.15.1         |  9.3 MB | ####################################### | 100% \n",
      "h5py-2.7.1           |  4.0 MB | ####################################### | 100% \n",
      "ca-certificates-2018 |  136 KB | ####################################### | 100% \n",
      "certifi-2018.8.24    |  139 KB | ####################################### | 100% \n",
      "openssl-1.0.2p       |  3.5 MB | ####################################### | 100% \n",
      "Preparing transaction: done\n",
      "Verifying transaction: done\n",
      "Executing transaction: done\n"
     ]
    }
   ],
   "source": [
    "import sys\n",
    "!conda install --yes --prefix {sys.prefix} numpy"
   ]
  },
  {
   "cell_type": "code",
   "execution_count": 51,
   "metadata": {},
   "outputs": [
    {
     "name": "stdout",
     "output_type": "stream",
     "text": [
      "Requirement already satisfied: numpy in /opt/conda/lib/python3.6/site-packages\n",
      "\u001b[33mYou are using pip version 9.0.3, however version 18.0 is available.\n",
      "You should consider upgrading via the 'pip install --upgrade pip' command.\u001b[0m\n"
     ]
    }
   ],
   "source": [
    "!{sys.executable} -m pip install numpy"
   ]
  },
  {
   "cell_type": "code",
   "execution_count": null,
   "metadata": {},
   "outputs": [],
   "source": []
  },
  {
   "cell_type": "code",
   "execution_count": null,
   "metadata": {},
   "outputs": [],
   "source": []
  },
  {
   "cell_type": "code",
   "execution_count": null,
   "metadata": {},
   "outputs": [],
   "source": []
  },
  {
   "cell_type": "code",
   "execution_count": null,
   "metadata": {},
   "outputs": [],
   "source": []
  }
 ],
 "metadata": {
  "kernelspec": {
   "display_name": "Python 3",
   "language": "python",
   "name": "python3"
  },
  "language_info": {
   "codemirror_mode": {
    "name": "ipython",
    "version": 3
   },
   "file_extension": ".py",
   "mimetype": "text/x-python",
   "name": "python",
   "nbconvert_exporter": "python",
   "pygments_lexer": "ipython3",
   "version": "3.6.5"
  }
 },
 "nbformat": 4,
 "nbformat_minor": 1
}
